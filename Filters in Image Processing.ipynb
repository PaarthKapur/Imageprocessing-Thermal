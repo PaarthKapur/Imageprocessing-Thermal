{
 "cells": [
  {
   "cell_type": "markdown",
   "metadata": {},
   "source": [
    "https://towardsdatascience.com/image-processing-and-pixel-manipulation-photo-filters-5d37a2f992fa"
   ]
  },
  {
   "cell_type": "markdown",
   "metadata": {},
   "source": [
    "# BASIC CODE"
   ]
  },
  {
   "cell_type": "code",
   "execution_count": 3,
   "metadata": {},
   "outputs": [],
   "source": [
    "from PIL import Image\n",
    "\n",
    "# Open image\n",
    "image = Image.open('FLIR0109.jpg')\n",
    "\n",
    "# Filter\n",
    "def filter(image):\n",
    "    # Get image dimesions\n",
    "    width, height = image.size\n",
    "\n",
    "    # Create a white RGB image\n",
    "    new_image = Image.new(\"RGB\", (width, height), \"white\")\n",
    "\n",
    "    # Filter magic happens here\n",
    "\n",
    "    return new_image\n",
    "\n",
    "# Show result\n",
    "new_image = filter(image)\n",
    "new_image.show()"
   ]
  },
  {
   "cell_type": "markdown",
   "metadata": {},
   "source": [
    "# GRAYSCALE"
   ]
  },
  {
   "cell_type": "code",
   "execution_count": 4,
   "metadata": {},
   "outputs": [],
   "source": [
    "from PIL import Image\n",
    "\n",
    "# Open image\n",
    "image = Image.open('FLIR0109.jpg')\n",
    "\n",
    "# Filter\n",
    "def filter(image):\n",
    "    # Get image dimesions\n",
    "    width, height = image.size\n",
    "\n",
    "    # Grayscale filter\n",
    "    for x in range(width):\n",
    "        for y in range(height):\n",
    "            # Get original pixel colors\n",
    "            r, g, b = image.getpixel((x, y))\n",
    "    \n",
    "            # New pixel colors\n",
    "            r_ = g_ = b_ = (r+g+b)/3\n",
    "\n",
    "            # Change new pixel\n",
    "            new_pixel = (int(r_), int(g_), int(b_))\n",
    "            new_image.putpixel((x, y), new_pixel)\n",
    "\n",
    "    # Filter magic happens here\n",
    "\n",
    "    return new_image\n",
    "\n",
    "# Show result\n",
    "new_image = filter(image)\n",
    "new_image.show()"
   ]
  },
  {
   "cell_type": "markdown",
   "metadata": {},
   "source": [
    "# BRIGHTNESS"
   ]
  },
  {
   "cell_type": "code",
   "execution_count": 5,
   "metadata": {},
   "outputs": [],
   "source": [
    "from PIL import Image\n",
    "\n",
    "# Open image\n",
    "image = Image.open('FLIR0109.jpg')\n",
    "\n",
    "def truncate(x):\n",
    "    '''makes sure returned value is between 0 and 255'''\n",
    "    return min(255, max(0, x))\n",
    "\n",
    "# Filter\n",
    "def filter(image):\n",
    "    # Get image dimesions\n",
    "    width, height = image.size\n",
    "\n",
    "    # Brightness filter\n",
    "    for x in range(width):\n",
    "        for y in range(height):\n",
    "            r, g, b = image.getpixel((x, y))\n",
    "\n",
    "            # d is the brightness increase\n",
    "            r_ = truncate(r + 64)\n",
    "            g_ = truncate(g + 64)\n",
    "            b_ = truncate(b + 64)\n",
    "\n",
    "            new_pixel = (int(r_), int(g_), int(b_))\n",
    "            new_image.putpixel((x, y), new_pixel)\n",
    "\n",
    "    # Filter magic happens here\n",
    "\n",
    "    return new_image\n",
    "\n",
    "# Show result\n",
    "new_image = filter(image)\n",
    "new_image.show()"
   ]
  },
  {
   "cell_type": "markdown",
   "metadata": {},
   "source": [
    "# CONTRAST"
   ]
  },
  {
   "cell_type": "code",
   "execution_count": 6,
   "metadata": {},
   "outputs": [],
   "source": [
    "from PIL import Image\n",
    "import numpy as np\n",
    "\n",
    "# Open image\n",
    "image = Image.open('FLIR0109.jpg')\n",
    "\n",
    "def truncate(x):\n",
    "    '''makes sure returned value is between 0 and 255'''\n",
    "    return min(255, max(0, x))\n",
    "\n",
    "# Filter\n",
    "def filter(image):\n",
    "    # Get image dimesions\n",
    "    width, height = image.size\n",
    "\n",
    "    # Converting image into a numpy array with a dimension (width, height, 3)\n",
    "    data = np.array(image)\n",
    "\n",
    "    # Calculate average brightness\n",
    "    μ = np.mean(data, axis=2)\n",
    "    μ_mean = μ.mean()\n",
    "    \n",
    "    beta =-100 #change value to change contrast between -255 to 255\n",
    "    \n",
    "    # Calculate factor\n",
    "    if beta == 255: alpha = np.infty\n",
    "    else: alpha = (255+beta)/(255-beta)\n",
    "\n",
    "    for x in range(width):\n",
    "        for y in range(height):\n",
    "            r, g, b = image.getpixel((x, y))\n",
    "\n",
    "            r_ = truncate(alpha*(r - μ_mean) + μ_mean)\n",
    "            g_ = truncate(alpha*(g - μ_mean) + μ_mean)\n",
    "            b_ = truncate(alpha*(b - μ_mean) + μ_mean)\n",
    "\n",
    "            new_pixel = (int(r_), int(g_), int(b_))\n",
    "            new_image.putpixel((x, y), new_pixel)\n",
    "\n",
    "    # Filter magic happens here\n",
    "\n",
    "    return new_image\n",
    "\n",
    "# Show result\n",
    "new_image = filter(image)\n",
    "new_image.show()"
   ]
  },
  {
   "cell_type": "markdown",
   "metadata": {},
   "source": [
    "# GAMMA CORRECTION"
   ]
  },
  {
   "cell_type": "code",
   "execution_count": 7,
   "metadata": {},
   "outputs": [],
   "source": [
    "from PIL import Image\n",
    "\n",
    "# Open image\n",
    "image = Image.open('FLIR0109.jpg')\n",
    "\n",
    "# Filter\n",
    "def filter(image):\n",
    "    # Get image dimesions\n",
    "    width, height = image.size\n",
    "    \n",
    "    gamma= 0.33 #For γ>1 low values are squeezed and high values and stretched, and vice-versa for γ<1.\n",
    "    \n",
    "    for x in range(width):\n",
    "        for y in range(height):\n",
    "            r, g, b = image.getpixel((x, y))\n",
    "\n",
    "            r_ = 255 * (r/255)**gamma\n",
    "            g_ = 255 * (g/255)**gamma\n",
    "            b_ = 255 * (b/255)**gamma\n",
    "\n",
    "            new_pixel = (int(r_), int(g_), int(b_))\n",
    "            new_image.putpixel((x, y), new_pixel)\n",
    "\n",
    "    # Filter magic happens here\n",
    "\n",
    "    return new_image\n",
    "\n",
    "# Show result\n",
    "new_image = filter(image)\n",
    "new_image.show()"
   ]
  },
  {
   "cell_type": "code",
   "execution_count": null,
   "metadata": {},
   "outputs": [],
   "source": []
  }
 ],
 "metadata": {
  "kernelspec": {
   "display_name": "Python 3 (ipykernel)",
   "language": "python",
   "name": "python3"
  },
  "language_info": {
   "codemirror_mode": {
    "name": "ipython",
    "version": 3
   },
   "file_extension": ".py",
   "mimetype": "text/x-python",
   "name": "python",
   "nbconvert_exporter": "python",
   "pygments_lexer": "ipython3",
   "version": "3.10.9"
  }
 },
 "nbformat": 4,
 "nbformat_minor": 4
}
